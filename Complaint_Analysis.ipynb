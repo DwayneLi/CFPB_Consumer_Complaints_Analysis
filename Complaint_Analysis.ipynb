{
  "nbformat": 4,
  "nbformat_minor": 0,
  "metadata": {
    "colab": {
      "name": "Complaint_Analysis.ipynb",
      "provenance": [],
      "collapsed_sections": [],
      "authorship_tag": "ABX9TyPPQaV/taI0ijwqnvY4ahpp",
      "include_colab_link": true
    },
    "kernelspec": {
      "name": "python3",
      "display_name": "Python 3"
    }
  },
  "cells": [
    {
      "cell_type": "markdown",
      "metadata": {
        "id": "view-in-github",
        "colab_type": "text"
      },
      "source": [
        "<a href=\"https://colab.research.google.com/github/DwayneLi/CFPB_Consumer_Complaints_Analysis/blob/master/Complaint_Analysis.ipynb\" target=\"_parent\"><img src=\"https://colab.research.google.com/assets/colab-badge.svg\" alt=\"Open In Colab\"/></a>"
      ]
    },
    {
      "cell_type": "markdown",
      "metadata": {
        "id": "5woCceklhUcZ"
      },
      "source": [
        "# Contents of complaint analysis"
      ]
    },
    {
      "cell_type": "markdown",
      "metadata": {
        "id": "oKOBcrzQcgC-"
      },
      "source": [
        "## Get date and necessary packages"
      ]
    },
    {
      "cell_type": "code",
      "metadata": {
        "id": "NXv5lLONHT1A"
      },
      "source": [
        "!wget -q https://www.dropbox.com/s/xzqxcw2yiz2mwie/complaints.csv"
      ],
      "execution_count": 2,
      "outputs": []
    },
    {
      "cell_type": "code",
      "metadata": {
        "id": "3J97rxHhHrdF"
      },
      "source": [
        "import numpy as np\n",
        "import pandas as pd\n",
        "import matplotlib.pyplot as plt\n",
        "import seaborn as sns"
      ],
      "execution_count": 4,
      "outputs": []
    },
    {
      "cell_type": "code",
      "metadata": {
        "id": "dJqVkLWSHwY-"
      },
      "source": [
        "df= pd.read_csv('complaints.csv')"
      ],
      "execution_count": 5,
      "outputs": []
    },
    {
      "cell_type": "markdown",
      "metadata": {
        "id": "C2kruwcpM2ve"
      },
      "source": [
        "## Clean data\n",
        "\n"
      ]
    },
    {
      "cell_type": "markdown",
      "metadata": {
        "id": "nOBteA7aM6ml"
      },
      "source": [
        "### Merge products under same category.\n",
        "\n",
        "There are product classifications before and after 2017-05. In order to analyze data exactlly, we put the same sub-group under new classification of products. \n",
        "\n",
        "First we check the duplicate sub product group and mark them by latest record date.\n"
      ]
    },
    {
      "cell_type": "code",
      "metadata": {
        "id": "XX8wVAjj5N7f"
      },
      "source": [
        "# transform date into date format\n",
        "df['Date received']=df['Date received'].apply(pd.to_datetime)"
      ],
      "execution_count": 6,
      "outputs": []
    },
    {
      "cell_type": "code",
      "metadata": {
        "id": "7f3VALzTKfIl",
        "outputId": "afab62f5-5204-4033-aff2-a2c8481b5854",
        "colab": {
          "base_uri": "https://localhost:8080/",
          "height": 306
        }
      },
      "source": [
        "# check the duplicate sub product group.\n",
        "product=df.pivot_table(['Complaint ID','Date received'],['Product','Sub-product'],aggfunc={'Complaint ID':lambda x: x.value_counts().count(),'Date received':max})\n",
        "product.reset_index(inplace=True)#.to_csv('product_list.csv')\n",
        "product.head()"
      ],
      "execution_count": 7,
      "outputs": [
        {
          "output_type": "execute_result",
          "data": {
            "text/html": [
              "<div>\n",
              "<style scoped>\n",
              "    .dataframe tbody tr th:only-of-type {\n",
              "        vertical-align: middle;\n",
              "    }\n",
              "\n",
              "    .dataframe tbody tr th {\n",
              "        vertical-align: top;\n",
              "    }\n",
              "\n",
              "    .dataframe thead th {\n",
              "        text-align: right;\n",
              "    }\n",
              "</style>\n",
              "<table border=\"1\" class=\"dataframe\">\n",
              "  <thead>\n",
              "    <tr style=\"text-align: right;\">\n",
              "      <th></th>\n",
              "      <th>Product</th>\n",
              "      <th>Sub-product</th>\n",
              "      <th>Complaint ID</th>\n",
              "      <th>Date received</th>\n",
              "    </tr>\n",
              "  </thead>\n",
              "  <tbody>\n",
              "    <tr>\n",
              "      <th>0</th>\n",
              "      <td>Bank account or service</td>\n",
              "      <td>(CD) Certificate of deposit</td>\n",
              "      <td>3417</td>\n",
              "      <td>2017-04-22</td>\n",
              "    </tr>\n",
              "    <tr>\n",
              "      <th>1</th>\n",
              "      <td>Bank account or service</td>\n",
              "      <td>Cashing a check without an account</td>\n",
              "      <td>625</td>\n",
              "      <td>2017-04-18</td>\n",
              "    </tr>\n",
              "    <tr>\n",
              "      <th>2</th>\n",
              "      <td>Bank account or service</td>\n",
              "      <td>Checking account</td>\n",
              "      <td>59045</td>\n",
              "      <td>2017-04-22</td>\n",
              "    </tr>\n",
              "    <tr>\n",
              "      <th>3</th>\n",
              "      <td>Bank account or service</td>\n",
              "      <td>Other bank product/service</td>\n",
              "      <td>17825</td>\n",
              "      <td>2017-04-21</td>\n",
              "    </tr>\n",
              "    <tr>\n",
              "      <th>4</th>\n",
              "      <td>Bank account or service</td>\n",
              "      <td>Savings account</td>\n",
              "      <td>5294</td>\n",
              "      <td>2017-04-21</td>\n",
              "    </tr>\n",
              "  </tbody>\n",
              "</table>\n",
              "</div>"
            ],
            "text/plain": [
              "                   Product  ... Date received\n",
              "0  Bank account or service  ...    2017-04-22\n",
              "1  Bank account or service  ...    2017-04-18\n",
              "2  Bank account or service  ...    2017-04-22\n",
              "3  Bank account or service  ...    2017-04-21\n",
              "4  Bank account or service  ...    2017-04-21\n",
              "\n",
              "[5 rows x 4 columns]"
            ]
          },
          "metadata": {
            "tags": []
          },
          "execution_count": 7
        }
      ]
    },
    {
      "cell_type": "code",
      "metadata": {
        "id": "_HGc9Fd_Lwgc",
        "outputId": "4b37b0b1-ef4a-4d06-d18e-b4e2ee90d9c3",
        "colab": {
          "base_uri": "https://localhost:8080/",
          "height": 255
        }
      },
      "source": [
        "product[product['Sub-product'].duplicated(keep=False)].sort_values('Sub-product').head()"
      ],
      "execution_count": 8,
      "outputs": [
        {
          "output_type": "execute_result",
          "data": {
            "text/html": [
              "<div>\n",
              "<style scoped>\n",
              "    .dataframe tbody tr th:only-of-type {\n",
              "        vertical-align: middle;\n",
              "    }\n",
              "\n",
              "    .dataframe tbody tr th {\n",
              "        vertical-align: top;\n",
              "    }\n",
              "\n",
              "    .dataframe thead th {\n",
              "        text-align: right;\n",
              "    }\n",
              "</style>\n",
              "<table border=\"1\" class=\"dataframe\">\n",
              "  <thead>\n",
              "    <tr style=\"text-align: right;\">\n",
              "      <th></th>\n",
              "      <th>Product</th>\n",
              "      <th>Sub-product</th>\n",
              "      <th>Complaint ID</th>\n",
              "      <th>Date received</th>\n",
              "    </tr>\n",
              "  </thead>\n",
              "  <tbody>\n",
              "    <tr>\n",
              "      <th>2</th>\n",
              "      <td>Bank account or service</td>\n",
              "      <td>Checking account</td>\n",
              "      <td>59045</td>\n",
              "      <td>2017-04-22</td>\n",
              "    </tr>\n",
              "    <tr>\n",
              "      <th>6</th>\n",
              "      <td>Checking or savings account</td>\n",
              "      <td>Checking account</td>\n",
              "      <td>45645</td>\n",
              "      <td>2020-04-02</td>\n",
              "    </tr>\n",
              "    <tr>\n",
              "      <th>58</th>\n",
              "      <td>Mortgage</td>\n",
              "      <td>Conventional home mortgage</td>\n",
              "      <td>41720</td>\n",
              "      <td>2020-04-02</td>\n",
              "    </tr>\n",
              "    <tr>\n",
              "      <th>23</th>\n",
              "      <td>Credit reporting, credit repair services, or o...</td>\n",
              "      <td>Conventional home mortgage</td>\n",
              "      <td>1</td>\n",
              "      <td>2018-05-22</td>\n",
              "    </tr>\n",
              "    <tr>\n",
              "      <th>69</th>\n",
              "      <td>Other financial service</td>\n",
              "      <td>Debt settlement</td>\n",
              "      <td>333</td>\n",
              "      <td>2017-04-21</td>\n",
              "    </tr>\n",
              "  </tbody>\n",
              "</table>\n",
              "</div>"
            ],
            "text/plain": [
              "                                              Product  ... Date received\n",
              "2                             Bank account or service  ...    2017-04-22\n",
              "6                         Checking or savings account  ...    2020-04-02\n",
              "58                                           Mortgage  ...    2020-04-02\n",
              "23  Credit reporting, credit repair services, or o...  ...    2018-05-22\n",
              "69                            Other financial service  ...    2017-04-21\n",
              "\n",
              "[5 rows x 4 columns]"
            ]
          },
          "metadata": {
            "tags": []
          },
          "execution_count": 8
        }
      ]
    },
    {
      "cell_type": "code",
      "metadata": {
        "id": "QeVeJ4ZnPi6B"
      },
      "source": [
        "# Payday loan, title loan, or personal loan\n",
        "df['Product'].replace('Payday loan','Payday loan, title loan, or personal loan',inplace=True)\n",
        "df.loc[df['Sub-product'] == 'Pawn loan','Product']='Payday loan, title loan, or personal loan'\n",
        "df.loc[df['Sub-product'] == 'Personal line of credit','Product']='Payday loan, title loan, or personal loan'\n",
        "df.loc[df['Sub-product'] == 'Installment loan','Product']='Payday loan, title loan, or personal loan'\n",
        "\n",
        "# Money transfer, virtual currency, or money service \n",
        "df['Product'].replace('Other financial service','Money transfer, virtual currency, or money service',inplace=True)\n",
        "df['Sub-product'].replace('Check cashing','Check cashing service',inplace=True)\n",
        "df['Sub-product'].replace('Traveler’s/Cashier’s checks',\"Traveler's check or cashier's check\",inplace=True)\n",
        "df['Product'].replace('Money transfers','Money transfer, virtual currency, or money service',inplace=True)\n",
        "df['Product'].replace('Virtual currency','Money transfer, virtual currency, or money service',inplace=True)\n",
        "\n",
        "# Checking or savings account\n",
        "df['Product'].replace('Bank account or service','Checking or savings account',inplace=True)\n",
        "df['Sub-product'].replace('(CD) Certificate of deposit',\"CD (Certificate of Deposit)\",inplace=True)\n",
        "\n",
        "# Debt collection\n",
        "df['Sub-product'].replace('Credit card',\"Credit card debt\",inplace=True)\n",
        "df['Sub-product'].replace('Other (i.e. phone, health club, etc.)',\"Other debt\",inplace=True)\n",
        "df['Sub-product'].replace('Medical',\"Medical debt\",inplace=True)\n",
        "df['Sub-product'].replace('Payday loan',\"Payday loan debt\",inplace=True)\n",
        "df['Sub-product'].replace('Auto',\"Auto debt\",inplace=True)\n",
        "df['Sub-product'].replace('Mortgage',\"Mortgage debt\",inplace=True)\n",
        "df['Sub-product'].replace('Federal student loan',\"Federal student loan debt\",inplace=True)\n",
        "df['Sub-product'].replace('Non-federal student loan',\"Private student loan debt\",inplace=True)\n",
        "\n",
        "\n",
        "# Credit card or prepaid card\n",
        "df['Product'].replace('Prepaid card','Credit card or prepaid card',inplace=True)\n",
        "df['Product'].replace('Credit card','Credit card or prepaid card',inplace=True)\n",
        "df['Sub-product'].replace('Government benefit payment card',\"Government benefit card\",inplace=True)\n",
        "df['Sub-product'].replace('ID prepaid card',\"ID prepaid card\",inplace=True)\n",
        "\n",
        "# Vehicle loan or lease\n",
        "df['Product'].replace('Consumer Loan','Vehicle loan or lease',inplace=True)\n",
        "df['Sub-product'].replace('Vehicle lease','Lease',inplace=True)\n",
        "df['Sub-product'].replace('Vehicle loan','Loan',inplace=True)\n",
        "\n",
        "# Credit reporting\n",
        "df['Product'].replace('Credit reporting','Credit reporting, credit repair services, or other personal consumer reports',inplace=True)"
      ],
      "execution_count": 12,
      "outputs": []
    },
    {
      "cell_type": "code",
      "metadata": {
        "id": "D70DaYyKRwtg",
        "outputId": "06ffe4d4-74c1-4980-eb91-d03fae25a399",
        "colab": {
          "base_uri": "https://localhost:8080/",
          "height": 197
        }
      },
      "source": [
        "df[df['Product'] =='Debt collection']['Sub-product'].value_counts()"
      ],
      "execution_count": 13,
      "outputs": [
        {
          "output_type": "execute_result",
          "data": {
            "text/plain": [
              "Other debt                   86516\n",
              "I do not know                59638\n",
              "Credit card debt             58593\n",
              "Medical debt                 43972\n",
              "Payday loan debt             11920\n",
              "Auto debt                     8355\n",
              "Mortgage debt                 8023\n",
              "Private student loan debt     5075\n",
              "Federal student loan debt     4904\n",
              "Name: Sub-product, dtype: int64"
            ]
          },
          "metadata": {
            "tags": []
          },
          "execution_count": 13
        }
      ]
    },
    {
      "cell_type": "code",
      "metadata": {
        "id": "NazHZoHJY_sD",
        "outputId": "b50b8415-b0ee-4438-8066-a8824ecd3270",
        "colab": {
          "base_uri": "https://localhost:8080/",
          "height": 297
        }
      },
      "source": [
        "product=df.pivot_table(['Complaint ID','Date received'],['Product','Sub-product'],aggfunc={'Complaint ID':lambda x: x.value_counts().count(),'Date received':max})\n",
        "product.reset_index(inplace=True)#.to_csv('product_list.csv')\n",
        "product[product['Sub-product'].duplicated(keep=False)].sort_values('Sub-product')"
      ],
      "execution_count": 9,
      "outputs": [
        {
          "output_type": "execute_result",
          "data": {
            "text/html": [
              "<div>\n",
              "<style scoped>\n",
              "    .dataframe tbody tr th:only-of-type {\n",
              "        vertical-align: middle;\n",
              "    }\n",
              "\n",
              "    .dataframe tbody tr th {\n",
              "        vertical-align: top;\n",
              "    }\n",
              "\n",
              "    .dataframe thead th {\n",
              "        text-align: right;\n",
              "    }\n",
              "</style>\n",
              "<table border=\"1\" class=\"dataframe\">\n",
              "  <thead>\n",
              "    <tr style=\"text-align: right;\">\n",
              "      <th></th>\n",
              "      <th>Product</th>\n",
              "      <th>Sub-product</th>\n",
              "      <th>Complaint ID</th>\n",
              "      <th>Date received</th>\n",
              "    </tr>\n",
              "  </thead>\n",
              "  <tbody>\n",
              "    <tr>\n",
              "      <th>20</th>\n",
              "      <td>Credit reporting, credit repair services, or o...</td>\n",
              "      <td>Conventional home mortgage</td>\n",
              "      <td>1</td>\n",
              "      <td>2018-05-22</td>\n",
              "    </tr>\n",
              "    <tr>\n",
              "      <th>54</th>\n",
              "      <td>Mortgage</td>\n",
              "      <td>Conventional home mortgage</td>\n",
              "      <td>41720</td>\n",
              "      <td>2020-04-02</td>\n",
              "    </tr>\n",
              "    <tr>\n",
              "      <th>35</th>\n",
              "      <td>Debt collection</td>\n",
              "      <td>Non-federal student loan</td>\n",
              "      <td>2881</td>\n",
              "      <td>2017-04-21</td>\n",
              "    </tr>\n",
              "    <tr>\n",
              "      <th>69</th>\n",
              "      <td>Student loan</td>\n",
              "      <td>Non-federal student loan</td>\n",
              "      <td>22283</td>\n",
              "      <td>2017-04-21</td>\n",
              "    </tr>\n",
              "    <tr>\n",
              "      <th>38</th>\n",
              "      <td>Debt collection</td>\n",
              "      <td>Payday loan</td>\n",
              "      <td>7563</td>\n",
              "      <td>2017-04-21</td>\n",
              "    </tr>\n",
              "    <tr>\n",
              "      <th>65</th>\n",
              "      <td>Payday loan, title loan, or personal loan</td>\n",
              "      <td>Payday loan</td>\n",
              "      <td>3781</td>\n",
              "      <td>2020-03-30</td>\n",
              "    </tr>\n",
              "    <tr>\n",
              "      <th>67</th>\n",
              "      <td>Payday loan, title loan, or personal loan</td>\n",
              "      <td>Title loan</td>\n",
              "      <td>1128</td>\n",
              "      <td>2020-03-30</td>\n",
              "    </tr>\n",
              "    <tr>\n",
              "      <th>73</th>\n",
              "      <td>Vehicle loan or lease</td>\n",
              "      <td>Title loan</td>\n",
              "      <td>562</td>\n",
              "      <td>2019-11-19</td>\n",
              "    </tr>\n",
              "  </tbody>\n",
              "</table>\n",
              "</div>"
            ],
            "text/plain": [
              "                                              Product  ... Date received\n",
              "20  Credit reporting, credit repair services, or o...  ...    2018-05-22\n",
              "54                                           Mortgage  ...    2020-04-02\n",
              "35                                    Debt collection  ...    2017-04-21\n",
              "69                                       Student loan  ...    2017-04-21\n",
              "38                                    Debt collection  ...    2017-04-21\n",
              "65          Payday loan, title loan, or personal loan  ...    2020-03-30\n",
              "67          Payday loan, title loan, or personal loan  ...    2020-03-30\n",
              "73                              Vehicle loan or lease  ...    2019-11-19\n",
              "\n",
              "[8 rows x 4 columns]"
            ]
          },
          "metadata": {
            "tags": []
          },
          "execution_count": 9
        }
      ]
    },
    {
      "cell_type": "markdown",
      "metadata": {
        "id": "VuEfi5bNcISk"
      },
      "source": [
        "Remain duplicate records exist in the classification of CFPB website.\n"
      ]
    },
    {
      "cell_type": "markdown",
      "metadata": {
        "id": "SUE5w_UAdMIN"
      },
      "source": [
        "### Merge issues under same category."
      ]
    },
    {
      "cell_type": "code",
      "metadata": {
        "id": "P8tGmElsOSDy",
        "outputId": "0bf13ba3-e9e0-42bd-e12f-0254e0c71021",
        "colab": {
          "base_uri": "https://localhost:8080/",
          "height": 452
        }
      },
      "source": [
        "df.pivot_table('Sub-product',['Product'],aggfunc={'Sub-product':lambda x: x.value_counts().count()})#.sort_values('Sub-product')"
      ],
      "execution_count": 10,
      "outputs": [
        {
          "output_type": "execute_result",
          "data": {
            "text/html": [
              "<div>\n",
              "<style scoped>\n",
              "    .dataframe tbody tr th:only-of-type {\n",
              "        vertical-align: middle;\n",
              "    }\n",
              "\n",
              "    .dataframe tbody tr th {\n",
              "        vertical-align: top;\n",
              "    }\n",
              "\n",
              "    .dataframe thead th {\n",
              "        text-align: right;\n",
              "    }\n",
              "</style>\n",
              "<table border=\"1\" class=\"dataframe\">\n",
              "  <thead>\n",
              "    <tr style=\"text-align: right;\">\n",
              "      <th></th>\n",
              "      <th>Sub-product</th>\n",
              "    </tr>\n",
              "    <tr>\n",
              "      <th>Product</th>\n",
              "      <th></th>\n",
              "    </tr>\n",
              "  </thead>\n",
              "  <tbody>\n",
              "    <tr>\n",
              "      <th>Checking or savings account</th>\n",
              "      <td>6</td>\n",
              "    </tr>\n",
              "    <tr>\n",
              "      <th>Credit card</th>\n",
              "      <td>0</td>\n",
              "    </tr>\n",
              "    <tr>\n",
              "      <th>Credit card or prepaid card</th>\n",
              "      <td>14</td>\n",
              "    </tr>\n",
              "    <tr>\n",
              "      <th>Credit reporting</th>\n",
              "      <td>0</td>\n",
              "    </tr>\n",
              "    <tr>\n",
              "      <th>Credit reporting, credit repair services, or other personal consumer reports</th>\n",
              "      <td>4</td>\n",
              "    </tr>\n",
              "    <tr>\n",
              "      <th>Debt collection</th>\n",
              "      <td>17</td>\n",
              "    </tr>\n",
              "    <tr>\n",
              "      <th>Money transfer, virtual currency, or money service</th>\n",
              "      <td>11</td>\n",
              "    </tr>\n",
              "    <tr>\n",
              "      <th>Mortgage</th>\n",
              "      <td>11</td>\n",
              "    </tr>\n",
              "    <tr>\n",
              "      <th>Payday loan</th>\n",
              "      <td>0</td>\n",
              "    </tr>\n",
              "    <tr>\n",
              "      <th>Payday loan, title loan, or personal loan</th>\n",
              "      <td>5</td>\n",
              "    </tr>\n",
              "    <tr>\n",
              "      <th>Student loan</th>\n",
              "      <td>3</td>\n",
              "    </tr>\n",
              "    <tr>\n",
              "      <th>Vehicle loan or lease</th>\n",
              "      <td>3</td>\n",
              "    </tr>\n",
              "  </tbody>\n",
              "</table>\n",
              "</div>"
            ],
            "text/plain": [
              "                                                    Sub-product\n",
              "Product                                                        \n",
              "Checking or savings account                                   6\n",
              "Credit card                                                   0\n",
              "Credit card or prepaid card                                  14\n",
              "Credit reporting                                              0\n",
              "Credit reporting, credit repair services, or ot...            4\n",
              "Debt collection                                              17\n",
              "Money transfer, virtual currency, or money service           11\n",
              "Mortgage                                                     11\n",
              "Payday loan                                                   0\n",
              "Payday loan, title loan, or personal loan                     5\n",
              "Student loan                                                  3\n",
              "Vehicle loan or lease                                         3"
            ]
          },
          "metadata": {
            "tags": []
          },
          "execution_count": 10
        }
      ]
    },
    {
      "cell_type": "markdown",
      "metadata": {
        "id": "v5KNbvTpdhGb"
      },
      "source": [
        "Group the issues and sub issues"
      ]
    },
    {
      "cell_type": "code",
      "metadata": {
        "id": "C-worluBSruj"
      },
      "source": [
        "df.Issue.value_counts()#.to_excel('issuelist.xlsx')"
      ],
      "execution_count": 43,
      "outputs": []
    },
    {
      "cell_type": "code",
      "metadata": {
        "id": "o8r6FIIo4UR-",
        "outputId": "d454b8a1-53b2-487b-bd54-46dfc1842c4d",
        "colab": {
          "base_uri": "https://localhost:8080/",
          "height": 289
        }
      },
      "source": [
        "issuedate=df.pivot_table(['Complaint ID','Date received'],['Issue','Sub-issue'],aggfunc={'Complaint ID':lambda x: x.value_counts().count(),'Date received':max}).reset_index()\n",
        "issuedate.head()#.pivot_table(['Sub-issue','Date received'],['Sub-issue'],aggfunc={'Sub-issue':lambda x:x.count(),'Date received':max})"
      ],
      "execution_count": 11,
      "outputs": [
        {
          "output_type": "execute_result",
          "data": {
            "text/html": [
              "<div>\n",
              "<style scoped>\n",
              "    .dataframe tbody tr th:only-of-type {\n",
              "        vertical-align: middle;\n",
              "    }\n",
              "\n",
              "    .dataframe tbody tr th {\n",
              "        vertical-align: top;\n",
              "    }\n",
              "\n",
              "    .dataframe thead th {\n",
              "        text-align: right;\n",
              "    }\n",
              "</style>\n",
              "<table border=\"1\" class=\"dataframe\">\n",
              "  <thead>\n",
              "    <tr style=\"text-align: right;\">\n",
              "      <th></th>\n",
              "      <th>Issue</th>\n",
              "      <th>Sub-issue</th>\n",
              "      <th>Complaint ID</th>\n",
              "      <th>Date received</th>\n",
              "    </tr>\n",
              "  </thead>\n",
              "  <tbody>\n",
              "    <tr>\n",
              "      <th>0</th>\n",
              "      <td>Advertising</td>\n",
              "      <td>Changes in terms from what was offered or adve...</td>\n",
              "      <td>33</td>\n",
              "      <td>2020-03-10</td>\n",
              "    </tr>\n",
              "    <tr>\n",
              "      <th>1</th>\n",
              "      <td>Advertising</td>\n",
              "      <td>Confusing or misleading advertising about the ...</td>\n",
              "      <td>107</td>\n",
              "      <td>2020-03-23</td>\n",
              "    </tr>\n",
              "    <tr>\n",
              "      <th>2</th>\n",
              "      <td>Advertising and marketing, including promotion...</td>\n",
              "      <td>Confusing or misleading advertising about the ...</td>\n",
              "      <td>1724</td>\n",
              "      <td>2020-03-24</td>\n",
              "    </tr>\n",
              "    <tr>\n",
              "      <th>3</th>\n",
              "      <td>Advertising and marketing, including promotion...</td>\n",
              "      <td>Didn't receive advertised or promotional terms</td>\n",
              "      <td>2648</td>\n",
              "      <td>2020-03-31</td>\n",
              "    </tr>\n",
              "    <tr>\n",
              "      <th>4</th>\n",
              "      <td>Attempts to collect debt not owed</td>\n",
              "      <td>Debt is not yours</td>\n",
              "      <td>33236</td>\n",
              "      <td>2020-04-02</td>\n",
              "    </tr>\n",
              "  </tbody>\n",
              "</table>\n",
              "</div>"
            ],
            "text/plain": [
              "                                               Issue  ... Date received\n",
              "0                                        Advertising  ...    2020-03-10\n",
              "1                                        Advertising  ...    2020-03-23\n",
              "2  Advertising and marketing, including promotion...  ...    2020-03-24\n",
              "3  Advertising and marketing, including promotion...  ...    2020-03-31\n",
              "4                  Attempts to collect debt not owed  ...    2020-04-02\n",
              "\n",
              "[5 rows x 4 columns]"
            ]
          },
          "metadata": {
            "tags": []
          },
          "execution_count": 11
        }
      ]
    },
    {
      "cell_type": "markdown",
      "metadata": {
        "id": "F7VkcgdWdnW0"
      },
      "source": [
        "Check duplicate sub issues"
      ]
    },
    {
      "cell_type": "code",
      "metadata": {
        "id": "mZUo_VFaJyjZ",
        "outputId": "054fb851-aa14-4e75-cd86-2deb95e1049f",
        "colab": {
          "base_uri": "https://localhost:8080/",
          "height": 204
        }
      },
      "source": [
        "issuedate[issuedate['Sub-issue'].duplicated(keep=False)].sort_values('Sub-issue').head()#.to_excel('issuedate.xlsx')"
      ],
      "execution_count": 12,
      "outputs": [
        {
          "output_type": "execute_result",
          "data": {
            "text/html": [
              "<div>\n",
              "<style scoped>\n",
              "    .dataframe tbody tr th:only-of-type {\n",
              "        vertical-align: middle;\n",
              "    }\n",
              "\n",
              "    .dataframe tbody tr th {\n",
              "        vertical-align: top;\n",
              "    }\n",
              "\n",
              "    .dataframe thead th {\n",
              "        text-align: right;\n",
              "    }\n",
              "</style>\n",
              "<table border=\"1\" class=\"dataframe\">\n",
              "  <thead>\n",
              "    <tr style=\"text-align: right;\">\n",
              "      <th></th>\n",
              "      <th>Issue</th>\n",
              "      <th>Sub-issue</th>\n",
              "      <th>Complaint ID</th>\n",
              "      <th>Date received</th>\n",
              "    </tr>\n",
              "  </thead>\n",
              "  <tbody>\n",
              "    <tr>\n",
              "      <th>35</th>\n",
              "      <td>Credit monitoring or identity theft protection...</td>\n",
              "      <td>Billing dispute for services</td>\n",
              "      <td>1624</td>\n",
              "      <td>2020-04-02</td>\n",
              "    </tr>\n",
              "    <tr>\n",
              "      <th>91</th>\n",
              "      <td>Identity theft protection or other monitoring ...</td>\n",
              "      <td>Billing dispute for services</td>\n",
              "      <td>58</td>\n",
              "      <td>2020-03-07</td>\n",
              "    </tr>\n",
              "    <tr>\n",
              "      <th>11</th>\n",
              "      <td>Closing an account</td>\n",
              "      <td>Can't close your account</td>\n",
              "      <td>1591</td>\n",
              "      <td>2020-03-25</td>\n",
              "    </tr>\n",
              "    <tr>\n",
              "      <th>15</th>\n",
              "      <td>Closing your account</td>\n",
              "      <td>Can't close your account</td>\n",
              "      <td>1374</td>\n",
              "      <td>2020-03-26</td>\n",
              "    </tr>\n",
              "    <tr>\n",
              "      <th>12</th>\n",
              "      <td>Closing an account</td>\n",
              "      <td>Company closed your account</td>\n",
              "      <td>3088</td>\n",
              "      <td>2020-03-30</td>\n",
              "    </tr>\n",
              "  </tbody>\n",
              "</table>\n",
              "</div>"
            ],
            "text/plain": [
              "                                                Issue  ... Date received\n",
              "35  Credit monitoring or identity theft protection...  ...    2020-04-02\n",
              "91  Identity theft protection or other monitoring ...  ...    2020-03-07\n",
              "11                                 Closing an account  ...    2020-03-25\n",
              "15                               Closing your account  ...    2020-03-26\n",
              "12                                 Closing an account  ...    2020-03-30\n",
              "\n",
              "[5 rows x 4 columns]"
            ]
          },
          "metadata": {
            "tags": []
          },
          "execution_count": 12
        }
      ]
    },
    {
      "cell_type": "code",
      "metadata": {
        "id": "K9hJkB87e-Nw"
      },
      "source": [
        "df['Issue'].replace('Problem with overdraft','Problem with an overdraft',inplace=True)\n",
        "#df['Sub-product'].replace('Check cashing','Check cashing service',inplace=True)\n",
        "\n",
        "df['Issue'].replace(\"Problem with a company's investigation into an existing issue\",\"Problem with a credit reporting company's investigation into an existing problem\",inplace=True)\n",
        "df['Issue'].replace(\"Getting a loan\",\"Getting a loan or lease\",inplace=True)\n",
        "df['Issue'].replace(\"Identity theft protection or other monitoring services\",\"Credit monitoring or identity theft protection services\",inplace=True)\n",
        "df['Issue'].replace(\"Closing your account\",\"Closing an account\",inplace=True)\n",
        "df['Issue'].replace(\"Attempts to collect debt not owed\",\"Cont'd attempts collect debt not owed\",inplace=True)\n",
        "df['Issue'].replace(\"Problem with an overdraft\",\"Problem with an overdraft\",inplace=True)\n",
        "df['Issue'].replace(\"Struggling to pay your bill\",\"Struggling to repay your loan\",inplace=True)"
      ],
      "execution_count": 14,
      "outputs": []
    },
    {
      "cell_type": "code",
      "metadata": {
        "id": "zcuRQ0GQDIzl"
      },
      "source": [
        "issuedate.reset_index().to_excel('issuedate.xlsx')"
      ],
      "execution_count": 14,
      "outputs": []
    },
    {
      "cell_type": "markdown",
      "metadata": {
        "id": "MCo_XGach0h0"
      },
      "source": [
        "## Exploration of data\n",
        "\n",
        "### We want to use plots to show the relationship among products and issues."
      ]
    },
    {
      "cell_type": "code",
      "metadata": {
        "id": "erHKWVPBjjEi",
        "outputId": "04571067-6497-473d-d424-2a1ada19f7f1",
        "colab": {
          "base_uri": "https://localhost:8080/",
          "height": 335
        }
      },
      "source": [
        "df.head(2)"
      ],
      "execution_count": 123,
      "outputs": [
        {
          "output_type": "execute_result",
          "data": {
            "text/html": [
              "<div>\n",
              "<style scoped>\n",
              "    .dataframe tbody tr th:only-of-type {\n",
              "        vertical-align: middle;\n",
              "    }\n",
              "\n",
              "    .dataframe tbody tr th {\n",
              "        vertical-align: top;\n",
              "    }\n",
              "\n",
              "    .dataframe thead th {\n",
              "        text-align: right;\n",
              "    }\n",
              "</style>\n",
              "<table border=\"1\" class=\"dataframe\">\n",
              "  <thead>\n",
              "    <tr style=\"text-align: right;\">\n",
              "      <th></th>\n",
              "      <th>Date received</th>\n",
              "      <th>Product</th>\n",
              "      <th>Sub-product</th>\n",
              "      <th>Issue</th>\n",
              "      <th>Sub-issue</th>\n",
              "      <th>Consumer complaint narrative</th>\n",
              "      <th>Company public response</th>\n",
              "      <th>Company</th>\n",
              "      <th>State</th>\n",
              "      <th>ZIP code</th>\n",
              "      <th>Tags</th>\n",
              "      <th>Consumer consent provided?</th>\n",
              "      <th>Submitted via</th>\n",
              "      <th>Date sent to company</th>\n",
              "      <th>Company response to consumer</th>\n",
              "      <th>Timely response?</th>\n",
              "      <th>Consumer disputed?</th>\n",
              "      <th>Complaint ID</th>\n",
              "    </tr>\n",
              "  </thead>\n",
              "  <tbody>\n",
              "    <tr>\n",
              "      <th>0</th>\n",
              "      <td>2019-09-24</td>\n",
              "      <td>Debt collection</td>\n",
              "      <td>I do not know</td>\n",
              "      <td>Cont'd attempts collect debt not owed</td>\n",
              "      <td>Debt is not yours</td>\n",
              "      <td>transworld systems inc. \\nis trying to collect...</td>\n",
              "      <td>NaN</td>\n",
              "      <td>TRANSWORLD SYSTEMS INC</td>\n",
              "      <td>FL</td>\n",
              "      <td>335XX</td>\n",
              "      <td>NaN</td>\n",
              "      <td>Consent provided</td>\n",
              "      <td>Web</td>\n",
              "      <td>2019-09-24</td>\n",
              "      <td>Closed with explanation</td>\n",
              "      <td>Yes</td>\n",
              "      <td>NaN</td>\n",
              "      <td>3384392</td>\n",
              "    </tr>\n",
              "    <tr>\n",
              "      <th>1</th>\n",
              "      <td>2019-09-19</td>\n",
              "      <td>Credit reporting, credit repair services, or o...</td>\n",
              "      <td>Credit reporting</td>\n",
              "      <td>Incorrect information on your report</td>\n",
              "      <td>Information belongs to someone else</td>\n",
              "      <td>NaN</td>\n",
              "      <td>Company has responded to the consumer and the ...</td>\n",
              "      <td>Experian Information Solutions Inc.</td>\n",
              "      <td>PA</td>\n",
              "      <td>15206</td>\n",
              "      <td>NaN</td>\n",
              "      <td>Consent not provided</td>\n",
              "      <td>Web</td>\n",
              "      <td>2019-09-20</td>\n",
              "      <td>Closed with non-monetary relief</td>\n",
              "      <td>Yes</td>\n",
              "      <td>NaN</td>\n",
              "      <td>3379500</td>\n",
              "    </tr>\n",
              "  </tbody>\n",
              "</table>\n",
              "</div>"
            ],
            "text/plain": [
              "  Date received  ... Complaint ID\n",
              "0    2019-09-24  ...      3384392\n",
              "1    2019-09-19  ...      3379500\n",
              "\n",
              "[2 rows x 18 columns]"
            ]
          },
          "metadata": {
            "tags": []
          },
          "execution_count": 123
        }
      ]
    },
    {
      "cell_type": "code",
      "metadata": {
        "id": "NrukEeKDFH0a"
      },
      "source": [
        "!pip -q install pandas plotnine\n",
        "import warnings\n",
        "warnings.filterwarnings('ignore')\n",
        "from plotnine import *"
      ],
      "execution_count": 15,
      "outputs": []
    },
    {
      "cell_type": "code",
      "metadata": {
        "id": "WXmratpgnmAe"
      },
      "source": [
        "df=df.rename(columns={'Complaint ID':'id'})"
      ],
      "execution_count": 16,
      "outputs": []
    },
    {
      "cell_type": "code",
      "metadata": {
        "id": "Qqf0Q1HBh4r8"
      },
      "source": [
        "plt.stackplot('Complaint ID',data=df,labels='Product')"
      ],
      "execution_count": null,
      "outputs": []
    },
    {
      "cell_type": "code",
      "metadata": {
        "id": "7joGXZMnlKct"
      },
      "source": [
        "import datetime\n",
        "df['year']=pd.DatetimeIndex(df['Date received']).year\n",
        "df['month']=pd.DatetimeIndex(df['Date received']).month"
      ],
      "execution_count": 17,
      "outputs": []
    },
    {
      "cell_type": "code",
      "metadata": {
        "id": "xnbc-Dh3kOQd",
        "outputId": "3384e503-eaf7-47a8-e6b3-bd0e966d8167",
        "colab": {
          "base_uri": "https://localhost:8080/",
          "height": 450
        }
      },
      "source": [
        "pd.DataFrame(df.groupby(['Product','year'])['year'].value_counts())"
      ],
      "execution_count": 157,
      "outputs": [
        {
          "output_type": "execute_result",
          "data": {
            "text/html": [
              "<div>\n",
              "<style scoped>\n",
              "    .dataframe tbody tr th:only-of-type {\n",
              "        vertical-align: middle;\n",
              "    }\n",
              "\n",
              "    .dataframe tbody tr th {\n",
              "        vertical-align: top;\n",
              "    }\n",
              "\n",
              "    .dataframe thead th {\n",
              "        text-align: right;\n",
              "    }\n",
              "</style>\n",
              "<table border=\"1\" class=\"dataframe\">\n",
              "  <thead>\n",
              "    <tr style=\"text-align: right;\">\n",
              "      <th></th>\n",
              "      <th></th>\n",
              "      <th></th>\n",
              "      <th>year</th>\n",
              "    </tr>\n",
              "    <tr>\n",
              "      <th>Product</th>\n",
              "      <th>year</th>\n",
              "      <th>year</th>\n",
              "      <th></th>\n",
              "    </tr>\n",
              "  </thead>\n",
              "  <tbody>\n",
              "    <tr>\n",
              "      <th rowspan=\"5\" valign=\"top\">Checking or savings account</th>\n",
              "      <th>2012</th>\n",
              "      <th>2012</th>\n",
              "      <td>12212</td>\n",
              "    </tr>\n",
              "    <tr>\n",
              "      <th>2013</th>\n",
              "      <th>2013</th>\n",
              "      <td>13388</td>\n",
              "    </tr>\n",
              "    <tr>\n",
              "      <th>2014</th>\n",
              "      <th>2014</th>\n",
              "      <td>14662</td>\n",
              "    </tr>\n",
              "    <tr>\n",
              "      <th>2015</th>\n",
              "      <th>2015</th>\n",
              "      <td>17140</td>\n",
              "    </tr>\n",
              "    <tr>\n",
              "      <th>2016</th>\n",
              "      <th>2016</th>\n",
              "      <td>21848</td>\n",
              "    </tr>\n",
              "    <tr>\n",
              "      <th>...</th>\n",
              "      <th>...</th>\n",
              "      <th>...</th>\n",
              "      <td>...</td>\n",
              "    </tr>\n",
              "    <tr>\n",
              "      <th rowspan=\"5\" valign=\"top\">Vehicle loan or lease</th>\n",
              "      <th>2016</th>\n",
              "      <th>2016</th>\n",
              "      <td>6184</td>\n",
              "    </tr>\n",
              "    <tr>\n",
              "      <th>2017</th>\n",
              "      <th>2017</th>\n",
              "      <td>6024</td>\n",
              "    </tr>\n",
              "    <tr>\n",
              "      <th>2018</th>\n",
              "      <th>2018</th>\n",
              "      <td>5892</td>\n",
              "    </tr>\n",
              "    <tr>\n",
              "      <th>2019</th>\n",
              "      <th>2019</th>\n",
              "      <td>5489</td>\n",
              "    </tr>\n",
              "    <tr>\n",
              "      <th>2020</th>\n",
              "      <th>2020</th>\n",
              "      <td>1281</td>\n",
              "    </tr>\n",
              "  </tbody>\n",
              "</table>\n",
              "<p>91 rows × 1 columns</p>\n",
              "</div>"
            ],
            "text/plain": [
              "                                        year\n",
              "Product                     year year       \n",
              "Checking or savings account 2012 2012  12212\n",
              "                            2013 2013  13388\n",
              "                            2014 2014  14662\n",
              "                            2015 2015  17140\n",
              "                            2016 2016  21848\n",
              "...                                      ...\n",
              "Vehicle loan or lease       2016 2016   6184\n",
              "                            2017 2017   6024\n",
              "                            2018 2018   5892\n",
              "                            2019 2019   5489\n",
              "                            2020 2020   1281\n",
              "\n",
              "[91 rows x 1 columns]"
            ]
          },
          "metadata": {
            "tags": []
          },
          "execution_count": 157
        }
      ]
    },
    {
      "cell_type": "code",
      "metadata": {
        "id": "Rug3jwvIrtYd",
        "outputId": "36020934-e911-4400-8236-17256df6cc50",
        "colab": {
          "base_uri": "https://localhost:8080/",
          "height": 331
        }
      },
      "source": [
        "\n",
        "tmp=df.groupby(['year','Product']).id.count().sort_values(ascending=False)\n",
        "plt.figure(figsize=(20,10))\n",
        "tmp.unstack().plot(kind='bar',stacked=True)"
      ],
      "execution_count": 183,
      "outputs": [
        {
          "output_type": "execute_result",
          "data": {
            "text/plain": [
              "<matplotlib.axes._subplots.AxesSubplot at 0x7f428d5dfba8>"
            ]
          },
          "metadata": {
            "tags": []
          },
          "execution_count": 183
        },
        {
          "output_type": "display_data",
          "data": {
            "text/plain": [
              "<Figure size 1440x720 with 0 Axes>"
            ]
          },
          "metadata": {
            "tags": []
          }
        },
        {
          "output_type": "display_data",
          "data": {
            "image/png": "[encoded data removed]",
            "text/plain": [
              "<Figure size 432x288 with 1 Axes>"
            ]
          },
          "metadata": {
            "tags": [],
            "needs_background": "light"
          }
        }
      ]
    },
    {
      "cell_type": "code",
      "metadata": {
        "id": "bBzKUm8znUWe",
        "outputId": "20e7987e-6eee-4daa-e970-dda99375e5a9",
        "colab": {
          "base_uri": "https://localhost:8080/",
          "height": 80
        }
      },
      "source": [
        "df.pivot_table(['Product','id'],columns=['year'],aggfunc={'id':lambda x:x.value_counts().count()})"
      ],
      "execution_count": 164,
      "outputs": [
        {
          "output_type": "execute_result",
          "data": {
            "text/html": [
              "<div>\n",
              "<style scoped>\n",
              "    .dataframe tbody tr th:only-of-type {\n",
              "        vertical-align: middle;\n",
              "    }\n",
              "\n",
              "    .dataframe tbody tr th {\n",
              "        vertical-align: top;\n",
              "    }\n",
              "\n",
              "    .dataframe thead th {\n",
              "        text-align: right;\n",
              "    }\n",
              "</style>\n",
              "<table border=\"1\" class=\"dataframe\">\n",
              "  <thead>\n",
              "    <tr style=\"text-align: right;\">\n",
              "      <th>year</th>\n",
              "      <th>2011</th>\n",
              "      <th>2012</th>\n",
              "      <th>2013</th>\n",
              "      <th>2014</th>\n",
              "      <th>2015</th>\n",
              "      <th>2016</th>\n",
              "      <th>2017</th>\n",
              "      <th>2018</th>\n",
              "      <th>2019</th>\n",
              "      <th>2020</th>\n",
              "    </tr>\n",
              "  </thead>\n",
              "  <tbody>\n",
              "    <tr>\n",
              "      <th>id</th>\n",
              "      <td>2536</td>\n",
              "      <td>72373</td>\n",
              "      <td>108217</td>\n",
              "      <td>153043</td>\n",
              "      <td>168475</td>\n",
              "      <td>191469</td>\n",
              "      <td>242967</td>\n",
              "      <td>257317</td>\n",
              "      <td>277393</td>\n",
              "      <td>74604</td>\n",
              "    </tr>\n",
              "  </tbody>\n",
              "</table>\n",
              "</div>"
            ],
            "text/plain": [
              "year  2011   2012    2013    2014  ...    2017    2018    2019   2020\n",
              "id    2536  72373  108217  153043  ...  242967  257317  277393  74604\n",
              "\n",
              "[1 rows x 10 columns]"
            ]
          },
          "metadata": {
            "tags": []
          },
          "execution_count": 164
        }
      ]
    },
    {
      "cell_type": "code",
      "metadata": {
        "id": "Uqg980ovF-3X",
        "outputId": "052a0056-e015-4cb7-ec4e-b6cf4963a5db",
        "colab": {
          "base_uri": "https://localhost:8080/",
          "height": 421
        }
      },
      "source": [
        "df.pivot_table(['id'],['Product'],aggfunc={'id':lambda x: x.value_counts().count()}).reset_index().sort_values('id')"
      ],
      "execution_count": 20,
      "outputs": [
        {
          "output_type": "execute_result",
          "data": {
            "text/html": [
              "<div>\n",
              "<style scoped>\n",
              "    .dataframe tbody tr th:only-of-type {\n",
              "        vertical-align: middle;\n",
              "    }\n",
              "\n",
              "    .dataframe tbody tr th {\n",
              "        vertical-align: top;\n",
              "    }\n",
              "\n",
              "    .dataframe thead th {\n",
              "        text-align: right;\n",
              "    }\n",
              "</style>\n",
              "<table border=\"1\" class=\"dataframe\">\n",
              "  <thead>\n",
              "    <tr style=\"text-align: right;\">\n",
              "      <th></th>\n",
              "      <th>Product</th>\n",
              "      <th>id</th>\n",
              "    </tr>\n",
              "  </thead>\n",
              "  <tbody>\n",
              "    <tr>\n",
              "      <th>8</th>\n",
              "      <td>Payday loan</td>\n",
              "      <td>5543</td>\n",
              "    </tr>\n",
              "    <tr>\n",
              "      <th>6</th>\n",
              "      <td>Money transfer, virtual currency, or money ser...</td>\n",
              "      <td>21332</td>\n",
              "    </tr>\n",
              "    <tr>\n",
              "      <th>9</th>\n",
              "      <td>Payday loan, title loan, or personal loan</td>\n",
              "      <td>23239</td>\n",
              "    </tr>\n",
              "    <tr>\n",
              "      <th>11</th>\n",
              "      <td>Vehicle loan or lease</td>\n",
              "      <td>37343</td>\n",
              "    </tr>\n",
              "    <tr>\n",
              "      <th>10</th>\n",
              "      <td>Student loan</td>\n",
              "      <td>57248</td>\n",
              "    </tr>\n",
              "    <tr>\n",
              "      <th>2</th>\n",
              "      <td>Credit card or prepaid card</td>\n",
              "      <td>75816</td>\n",
              "    </tr>\n",
              "    <tr>\n",
              "      <th>1</th>\n",
              "      <td>Credit card</td>\n",
              "      <td>89190</td>\n",
              "    </tr>\n",
              "    <tr>\n",
              "      <th>3</th>\n",
              "      <td>Credit reporting</td>\n",
              "      <td>140432</td>\n",
              "    </tr>\n",
              "    <tr>\n",
              "      <th>0</th>\n",
              "      <td>Checking or savings account</td>\n",
              "      <td>146701</td>\n",
              "    </tr>\n",
              "    <tr>\n",
              "      <th>5</th>\n",
              "      <td>Debt collection</td>\n",
              "      <td>286996</td>\n",
              "    </tr>\n",
              "    <tr>\n",
              "      <th>7</th>\n",
              "      <td>Mortgage</td>\n",
              "      <td>298560</td>\n",
              "    </tr>\n",
              "    <tr>\n",
              "      <th>4</th>\n",
              "      <td>Credit reporting, credit repair services, or o...</td>\n",
              "      <td>365994</td>\n",
              "    </tr>\n",
              "  </tbody>\n",
              "</table>\n",
              "</div>"
            ],
            "text/plain": [
              "                                              Product      id\n",
              "8                                         Payday loan    5543\n",
              "6   Money transfer, virtual currency, or money ser...   21332\n",
              "9           Payday loan, title loan, or personal loan   23239\n",
              "11                              Vehicle loan or lease   37343\n",
              "10                                       Student loan   57248\n",
              "2                         Credit card or prepaid card   75816\n",
              "1                                         Credit card   89190\n",
              "3                                    Credit reporting  140432\n",
              "0                         Checking or savings account  146701\n",
              "5                                     Debt collection  286996\n",
              "7                                            Mortgage  298560\n",
              "4   Credit reporting, credit repair services, or o...  365994"
            ]
          },
          "metadata": {
            "tags": []
          },
          "execution_count": 20
        }
      ]
    },
    {
      "cell_type": "code",
      "metadata": {
        "id": "z9FEiEf3oYtt",
        "outputId": "2ccfd47e-c2e9-4275-b211-aae898603ab8",
        "colab": {
          "base_uri": "https://localhost:8080/",
          "height": 419
        }
      },
      "source": [
        "productyear=df.pivot_table(['id'],['year','Product'],aggfunc={'id':lambda x: x.value_counts().count()}).reset_index()\n",
        "productyear"
      ],
      "execution_count": 22,
      "outputs": [
        {
          "output_type": "execute_result",
          "data": {
            "text/html": [
              "<div>\n",
              "<style scoped>\n",
              "    .dataframe tbody tr th:only-of-type {\n",
              "        vertical-align: middle;\n",
              "    }\n",
              "\n",
              "    .dataframe tbody tr th {\n",
              "        vertical-align: top;\n",
              "    }\n",
              "\n",
              "    .dataframe thead th {\n",
              "        text-align: right;\n",
              "    }\n",
              "</style>\n",
              "<table border=\"1\" class=\"dataframe\">\n",
              "  <thead>\n",
              "    <tr style=\"text-align: right;\">\n",
              "      <th></th>\n",
              "      <th>year</th>\n",
              "      <th>Product</th>\n",
              "      <th>id</th>\n",
              "    </tr>\n",
              "  </thead>\n",
              "  <tbody>\n",
              "    <tr>\n",
              "      <th>0</th>\n",
              "      <td>2011</td>\n",
              "      <td>Credit card</td>\n",
              "      <td>1260</td>\n",
              "    </tr>\n",
              "    <tr>\n",
              "      <th>1</th>\n",
              "      <td>2011</td>\n",
              "      <td>Mortgage</td>\n",
              "      <td>1276</td>\n",
              "    </tr>\n",
              "    <tr>\n",
              "      <th>2</th>\n",
              "      <td>2012</td>\n",
              "      <td>Checking or savings account</td>\n",
              "      <td>12212</td>\n",
              "    </tr>\n",
              "    <tr>\n",
              "      <th>3</th>\n",
              "      <td>2012</td>\n",
              "      <td>Credit card</td>\n",
              "      <td>15353</td>\n",
              "    </tr>\n",
              "    <tr>\n",
              "      <th>4</th>\n",
              "      <td>2012</td>\n",
              "      <td>Credit reporting</td>\n",
              "      <td>1873</td>\n",
              "    </tr>\n",
              "    <tr>\n",
              "      <th>...</th>\n",
              "      <td>...</td>\n",
              "      <td>...</td>\n",
              "      <td>...</td>\n",
              "    </tr>\n",
              "    <tr>\n",
              "      <th>86</th>\n",
              "      <td>2020</td>\n",
              "      <td>Money transfer, virtual currency, or money ser...</td>\n",
              "      <td>1115</td>\n",
              "    </tr>\n",
              "    <tr>\n",
              "      <th>87</th>\n",
              "      <td>2020</td>\n",
              "      <td>Mortgage</td>\n",
              "      <td>5142</td>\n",
              "    </tr>\n",
              "    <tr>\n",
              "      <th>88</th>\n",
              "      <td>2020</td>\n",
              "      <td>Payday loan, title loan, or personal loan</td>\n",
              "      <td>936</td>\n",
              "    </tr>\n",
              "    <tr>\n",
              "      <th>89</th>\n",
              "      <td>2020</td>\n",
              "      <td>Student loan</td>\n",
              "      <td>1371</td>\n",
              "    </tr>\n",
              "    <tr>\n",
              "      <th>90</th>\n",
              "      <td>2020</td>\n",
              "      <td>Vehicle loan or lease</td>\n",
              "      <td>1281</td>\n",
              "    </tr>\n",
              "  </tbody>\n",
              "</table>\n",
              "<p>91 rows × 3 columns</p>\n",
              "</div>"
            ],
            "text/plain": [
              "    year                                            Product     id\n",
              "0   2011                                        Credit card   1260\n",
              "1   2011                                           Mortgage   1276\n",
              "2   2012                        Checking or savings account  12212\n",
              "3   2012                                        Credit card  15353\n",
              "4   2012                                   Credit reporting   1873\n",
              "..   ...                                                ...    ...\n",
              "86  2020  Money transfer, virtual currency, or money ser...   1115\n",
              "87  2020                                           Mortgage   5142\n",
              "88  2020          Payday loan, title loan, or personal loan    936\n",
              "89  2020                                       Student loan   1371\n",
              "90  2020                              Vehicle loan or lease   1281\n",
              "\n",
              "[91 rows x 3 columns]"
            ]
          },
          "metadata": {
            "tags": []
          },
          "execution_count": 22
        }
      ]
    },
    {
      "cell_type": "code",
      "metadata": {
        "id": "cWVhvLk6JdAz",
        "outputId": "6009acb2-88eb-4b6b-d4be-694b63fadfaa",
        "colab": {
          "base_uri": "https://localhost:8080/",
          "height": 419
        }
      },
      "source": [
        "productyear.loc[(productyear['year']> 2013) & (productyear['year'] < 2020),]"
      ],
      "execution_count": 30,
      "outputs": [
        {
          "output_type": "execute_result",
          "data": {
            "text/html": [
              "<div>\n",
              "<style scoped>\n",
              "    .dataframe tbody tr th:only-of-type {\n",
              "        vertical-align: middle;\n",
              "    }\n",
              "\n",
              "    .dataframe tbody tr th {\n",
              "        vertical-align: top;\n",
              "    }\n",
              "\n",
              "    .dataframe thead th {\n",
              "        text-align: right;\n",
              "    }\n",
              "</style>\n",
              "<table border=\"1\" class=\"dataframe\">\n",
              "  <thead>\n",
              "    <tr style=\"text-align: right;\">\n",
              "      <th></th>\n",
              "      <th>year</th>\n",
              "      <th>Product</th>\n",
              "      <th>id</th>\n",
              "    </tr>\n",
              "  </thead>\n",
              "  <tbody>\n",
              "    <tr>\n",
              "      <th>19</th>\n",
              "      <td>2014</td>\n",
              "      <td>Checking or savings account</td>\n",
              "      <td>14662</td>\n",
              "    </tr>\n",
              "    <tr>\n",
              "      <th>20</th>\n",
              "      <td>2014</td>\n",
              "      <td>Credit card</td>\n",
              "      <td>13974</td>\n",
              "    </tr>\n",
              "    <tr>\n",
              "      <th>21</th>\n",
              "      <td>2014</td>\n",
              "      <td>Credit card or prepaid card</td>\n",
              "      <td>336</td>\n",
              "    </tr>\n",
              "    <tr>\n",
              "      <th>22</th>\n",
              "      <td>2014</td>\n",
              "      <td>Credit reporting</td>\n",
              "      <td>29239</td>\n",
              "    </tr>\n",
              "    <tr>\n",
              "      <th>23</th>\n",
              "      <td>2014</td>\n",
              "      <td>Debt collection</td>\n",
              "      <td>39139</td>\n",
              "    </tr>\n",
              "    <tr>\n",
              "      <th>...</th>\n",
              "      <td>...</td>\n",
              "      <td>...</td>\n",
              "      <td>...</td>\n",
              "    </tr>\n",
              "    <tr>\n",
              "      <th>77</th>\n",
              "      <td>2019</td>\n",
              "      <td>Money transfer, virtual currency, or money ser...</td>\n",
              "      <td>5087</td>\n",
              "    </tr>\n",
              "    <tr>\n",
              "      <th>78</th>\n",
              "      <td>2019</td>\n",
              "      <td>Mortgage</td>\n",
              "      <td>22708</td>\n",
              "    </tr>\n",
              "    <tr>\n",
              "      <th>79</th>\n",
              "      <td>2019</td>\n",
              "      <td>Payday loan, title loan, or personal loan</td>\n",
              "      <td>4336</td>\n",
              "    </tr>\n",
              "    <tr>\n",
              "      <th>80</th>\n",
              "      <td>2019</td>\n",
              "      <td>Student loan</td>\n",
              "      <td>7212</td>\n",
              "    </tr>\n",
              "    <tr>\n",
              "      <th>81</th>\n",
              "      <td>2019</td>\n",
              "      <td>Vehicle loan or lease</td>\n",
              "      <td>5489</td>\n",
              "    </tr>\n",
              "  </tbody>\n",
              "</table>\n",
              "<p>63 rows × 3 columns</p>\n",
              "</div>"
            ],
            "text/plain": [
              "    year                                            Product     id\n",
              "19  2014                        Checking or savings account  14662\n",
              "20  2014                                        Credit card  13974\n",
              "21  2014                        Credit card or prepaid card    336\n",
              "22  2014                                   Credit reporting  29239\n",
              "23  2014                                    Debt collection  39139\n",
              "..   ...                                                ...    ...\n",
              "77  2019  Money transfer, virtual currency, or money ser...   5087\n",
              "78  2019                                           Mortgage  22708\n",
              "79  2019          Payday loan, title loan, or personal loan   4336\n",
              "80  2019                                       Student loan   7212\n",
              "81  2019                              Vehicle loan or lease   5489\n",
              "\n",
              "[63 rows x 3 columns]"
            ]
          },
          "metadata": {
            "tags": []
          },
          "execution_count": 30
        }
      ]
    },
    {
      "cell_type": "code",
      "metadata": {
        "id": "GnbuUrMiJD7-"
      },
      "source": [
        "productyear19=productyear.loc[(productyear['year']> 2011) & (productyear['year'] < 2020),]"
      ],
      "execution_count": 33,
      "outputs": []
    },
    {
      "cell_type": "code",
      "metadata": {
        "id": "rZr_gpO7FoT6",
        "outputId": "8deb9062-1111-48f5-d27a-6f8d6e2fdc01",
        "colab": {
          "base_uri": "https://localhost:8080/",
          "height": 173
        }
      },
      "source": [
        "ggplot(productyear19, aes(x='year',y='id', fill = 'Product')) + \\\n",
        "    geom_bar(stat = 'identity')"
      ],
      "execution_count": 16,
      "outputs": [
        {
          "output_type": "error",
          "ename": "NameError",
          "evalue": "ignored",
          "traceback": [
            "\u001b[0;31m---------------------------------------------------------------------------\u001b[0m",
            "\u001b[0;31mNameError\u001b[0m                                 Traceback (most recent call last)",
            "\u001b[0;32m<ipython-input-16-dd2eabcfcffa>\u001b[0m in \u001b[0;36m<module>\u001b[0;34m()\u001b[0m\n\u001b[0;32m----> 1\u001b[0;31m \u001b[0mggplot\u001b[0m\u001b[0;34m(\u001b[0m\u001b[0mproductyear19\u001b[0m\u001b[0;34m,\u001b[0m \u001b[0maes\u001b[0m\u001b[0;34m(\u001b[0m\u001b[0mx\u001b[0m\u001b[0;34m=\u001b[0m\u001b[0;34m'year'\u001b[0m\u001b[0;34m,\u001b[0m\u001b[0my\u001b[0m\u001b[0;34m=\u001b[0m\u001b[0;34m'id'\u001b[0m\u001b[0;34m,\u001b[0m \u001b[0mfill\u001b[0m \u001b[0;34m=\u001b[0m \u001b[0;34m'Product'\u001b[0m\u001b[0;34m)\u001b[0m\u001b[0;34m)\u001b[0m \u001b[0;34m+\u001b[0m     \u001b[0mgeom_bar\u001b[0m\u001b[0;34m(\u001b[0m\u001b[0mstat\u001b[0m \u001b[0;34m=\u001b[0m \u001b[0;34m'identity'\u001b[0m\u001b[0;34m)\u001b[0m\u001b[0;34m\u001b[0m\u001b[0;34m\u001b[0m\u001b[0m\n\u001b[0m",
            "\u001b[0;31mNameError\u001b[0m: name 'ggplot' is not defined"
          ]
        }
      ]
    },
    {
      "cell_type": "code",
      "metadata": {
        "id": "gfHgdt2MG1ra"
      },
      "source": [
        "df.head()"
      ],
      "execution_count": null,
      "outputs": []
    },
    {
      "cell_type": "code",
      "metadata": {
        "id": "KjC0tkLbGvwR"
      },
      "source": [
        "df.to_csv('cleancomplaint.csv',index=False)"
      ],
      "execution_count": 15,
      "outputs": []
    },
    {
      "cell_type": "code",
      "metadata": {
        "id": "SXYRabB0HOrb",
        "outputId": "a394307f-7d4c-422c-e103-f3c8e395bd26",
        "colab": {
          "base_uri": "https://localhost:8080/",
          "height": 17
        }
      },
      "source": [
        "from google.colab import files\n",
        "files.download('cleancomplaint.csv' )\n"
      ],
      "execution_count": 45,
      "outputs": [
        {
          "output_type": "display_data",
          "data": {
            "application/javascript": [
              "\n",
              "    async function download(id, filename, size) {\n",
              "      if (!google.colab.kernel.accessAllowed) {\n",
              "        return;\n",
              "      }\n",
              "      const div = document.createElement('div');\n",
              "      const label = document.createElement('label');\n",
              "      label.textContent = `Downloading \"${filename}\": `;\n",
              "      div.appendChild(label);\n",
              "      const progress = document.createElement('progress');\n",
              "      progress.max = size;\n",
              "      div.appendChild(progress);\n",
              "      document.body.appendChild(div);\n",
              "\n",
              "      const buffers = [];\n",
              "      let downloaded = 0;\n",
              "\n",
              "      const channel = await google.colab.kernel.comms.open(id);\n",
              "      // Send a message to notify the kernel that we're ready.\n",
              "      channel.send({})\n",
              "\n",
              "      for await (const message of channel.messages) {\n",
              "        // Send a message to notify the kernel that we're ready.\n",
              "        channel.send({})\n",
              "        if (message.buffers) {\n",
              "          for (const buffer of message.buffers) {\n",
              "            buffers.push(buffer);\n",
              "            downloaded += buffer.byteLength;\n",
              "            progress.value = downloaded;\n",
              "          }\n",
              "        }\n",
              "      }\n",
              "      const blob = new Blob(buffers, {type: 'application/binary'});\n",
              "      const a = document.createElement('a');\n",
              "      a.href = window.URL.createObjectURL(blob);\n",
              "      a.download = filename;\n",
              "      div.appendChild(a);\n",
              "      a.click();\n",
              "      div.remove();\n",
              "    }\n",
              "  "
            ],
            "text/plain": [
              "<IPython.core.display.Javascript object>"
            ]
          },
          "metadata": {
            "tags": []
          }
        },
        {
          "output_type": "display_data",
          "data": {
            "application/javascript": [
              "download(\"download_adccf2b6-0e21-4da8-bdee-e51cb09cf5f5\", \"cleancomplaint.csv\", 977290881)"
            ],
            "text/plain": [
              "<IPython.core.display.Javascript object>"
            ]
          },
          "metadata": {
            "tags": []
          }
        }
      ]
    },
    {
      "cell_type": "code",
      "metadata": {
        "id": "SC9-M5F8q10w",
        "outputId": "55735bc9-c3b0-4443-caed-c1ec38d97184",
        "colab": {
          "base_uri": "https://localhost:8080/",
          "height": 297
        }
      },
      "source": [
        "sns.barplot(x='year',y='id',data=productyear)"
      ],
      "execution_count": 171,
      "outputs": [
        {
          "output_type": "execute_result",
          "data": {
            "text/plain": [
              "<matplotlib.axes._subplots.AxesSubplot at 0x7f428f654a20>"
            ]
          },
          "metadata": {
            "tags": []
          },
          "execution_count": 171
        },
        {
          "output_type": "display_data",
          "data": {
            "image/png": "[encoded data removed]",
            "text/plain": [
              "<Figure size 432x288 with 1 Axes>"
            ]
          },
          "metadata": {
            "tags": [],
            "needs_background": "light"
          }
        }
      ]
    },
    {
      "cell_type": "code",
      "metadata": {
        "id": "SyLXMJfdrkZl"
      },
      "source": [
        ""
      ],
      "execution_count": null,
      "outputs": []
    },
    {
      "cell_type": "code",
      "metadata": {
        "id": "Hxq24dXepi6M",
        "outputId": "7e6b8eaa-41bf-4341-a2a7-302ceed0d491",
        "colab": {
          "base_uri": "https://localhost:8080/",
          "height": 359
        }
      },
      "source": [
        "df.pivot_table(['id'],['year'],aggfunc={'id':lambda x: x.value_counts().count()}).reset_index()"
      ],
      "execution_count": 169,
      "outputs": [
        {
          "output_type": "execute_result",
          "data": {
            "text/html": [
              "<div>\n",
              "<style scoped>\n",
              "    .dataframe tbody tr th:only-of-type {\n",
              "        vertical-align: middle;\n",
              "    }\n",
              "\n",
              "    .dataframe tbody tr th {\n",
              "        vertical-align: top;\n",
              "    }\n",
              "\n",
              "    .dataframe thead th {\n",
              "        text-align: right;\n",
              "    }\n",
              "</style>\n",
              "<table border=\"1\" class=\"dataframe\">\n",
              "  <thead>\n",
              "    <tr style=\"text-align: right;\">\n",
              "      <th></th>\n",
              "      <th>year</th>\n",
              "      <th>id</th>\n",
              "    </tr>\n",
              "  </thead>\n",
              "  <tbody>\n",
              "    <tr>\n",
              "      <th>0</th>\n",
              "      <td>2011</td>\n",
              "      <td>2536</td>\n",
              "    </tr>\n",
              "    <tr>\n",
              "      <th>1</th>\n",
              "      <td>2012</td>\n",
              "      <td>72373</td>\n",
              "    </tr>\n",
              "    <tr>\n",
              "      <th>2</th>\n",
              "      <td>2013</td>\n",
              "      <td>108217</td>\n",
              "    </tr>\n",
              "    <tr>\n",
              "      <th>3</th>\n",
              "      <td>2014</td>\n",
              "      <td>153043</td>\n",
              "    </tr>\n",
              "    <tr>\n",
              "      <th>4</th>\n",
              "      <td>2015</td>\n",
              "      <td>168475</td>\n",
              "    </tr>\n",
              "    <tr>\n",
              "      <th>5</th>\n",
              "      <td>2016</td>\n",
              "      <td>191469</td>\n",
              "    </tr>\n",
              "    <tr>\n",
              "      <th>6</th>\n",
              "      <td>2017</td>\n",
              "      <td>242967</td>\n",
              "    </tr>\n",
              "    <tr>\n",
              "      <th>7</th>\n",
              "      <td>2018</td>\n",
              "      <td>257317</td>\n",
              "    </tr>\n",
              "    <tr>\n",
              "      <th>8</th>\n",
              "      <td>2019</td>\n",
              "      <td>277393</td>\n",
              "    </tr>\n",
              "    <tr>\n",
              "      <th>9</th>\n",
              "      <td>2020</td>\n",
              "      <td>74604</td>\n",
              "    </tr>\n",
              "  </tbody>\n",
              "</table>\n",
              "</div>"
            ],
            "text/plain": [
              "   year      id\n",
              "0  2011    2536\n",
              "1  2012   72373\n",
              "2  2013  108217\n",
              "3  2014  153043\n",
              "4  2015  168475\n",
              "5  2016  191469\n",
              "6  2017  242967\n",
              "7  2018  257317\n",
              "8  2019  277393\n",
              "9  2020   74604"
            ]
          },
          "metadata": {
            "tags": []
          },
          "execution_count": 169
        }
      ]
    }
  ]
}